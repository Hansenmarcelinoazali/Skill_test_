{
 "cells": [
  {
   "cell_type": "code",
   "execution_count": 1,
   "metadata": {},
   "outputs": [],
   "source": [
    "import json\n",
    "import pandas as pd"
   ]
  },
  {
   "cell_type": "code",
   "execution_count": 2,
   "metadata": {},
   "outputs": [
    {
     "name": "stdout",
     "output_type": "stream",
     "text": [
      "[{'inventory_id': 9382, 'name': 'Brown Chair', 'type': 'furniture', 'tags': ['chair', 'furniture', 'brown'], 'purchased_at': 1579190471, 'placement': {'room_id': 3, 'name': 'Meeting Room'}}, {'inventory_id': 9380, 'name': 'Big Desk', 'type': 'furniture', 'tags': ['desk', 'furniture', 'brown'], 'purchased_at': 1579190642, 'placement': {'room_id': 3, 'name': 'Meeting Room'}}, {'inventory_id': 2932, 'name': 'LG Monitor 50 inch', 'type': 'electronic', 'tags': ['monitor'], 'purchased_at': 1579017842, 'placement': {'room_id': 3, 'name': 'Lavender'}}, {'inventory_id': 232, 'name': 'Sharp Pendingin Ruangan 2PK', 'type': 'electronic', 'tags': ['ac'], 'purchased_at': 1578931442, 'placement': {'room_id': 5, 'name': 'Dhanapala'}}, {'inventory_id': 9382, 'name': 'Alat Makan', 'type': 'tableware', 'tags': ['spoon', 'fork', 'tableware'], 'purchased_at': 1578672242, 'placement': {'room_id': 10, 'name': 'Rajawali'}}]\n"
     ]
    }
   ],
   "source": [
    "with open('refactory.json') as f:\n",
    "   data = json.load(f)\n",
    "\n",
    "print(data)"
   ]
  },
  {
   "cell_type": "code",
   "execution_count": 3,
   "metadata": {},
   "outputs": [],
   "source": [
    "df = pd.read_json('refactory.json')\n"
   ]
  },
  {
   "cell_type": "code",
   "execution_count": 4,
   "metadata": {},
   "outputs": [
    {
     "data": {
      "text/plain": [
       "[{'inventory_id': 9382,\n",
       "  'name': 'Brown Chair',\n",
       "  'type': 'furniture',\n",
       "  'tags': ['chair', 'furniture', 'brown'],\n",
       "  'purchased_at': 1579190471,\n",
       "  'placement': {'room_id': 3, 'name': 'Meeting Room'}},\n",
       " {'inventory_id': 9380,\n",
       "  'name': 'Big Desk',\n",
       "  'type': 'furniture',\n",
       "  'tags': ['desk', 'furniture', 'brown'],\n",
       "  'purchased_at': 1579190642,\n",
       "  'placement': {'room_id': 3, 'name': 'Meeting Room'}},\n",
       " {'inventory_id': 2932,\n",
       "  'name': 'LG Monitor 50 inch',\n",
       "  'type': 'electronic',\n",
       "  'tags': ['monitor'],\n",
       "  'purchased_at': 1579017842,\n",
       "  'placement': {'room_id': 3, 'name': 'Lavender'}},\n",
       " {'inventory_id': 232,\n",
       "  'name': 'Sharp Pendingin Ruangan 2PK',\n",
       "  'type': 'electronic',\n",
       "  'tags': ['ac'],\n",
       "  'purchased_at': 1578931442,\n",
       "  'placement': {'room_id': 5, 'name': 'Dhanapala'}},\n",
       " {'inventory_id': 9382,\n",
       "  'name': 'Alat Makan',\n",
       "  'type': 'tableware',\n",
       "  'tags': ['spoon', 'fork', 'tableware'],\n",
       "  'purchased_at': 1578672242,\n",
       "  'placement': {'room_id': 10, 'name': 'Rajawali'}}]"
      ]
     },
     "execution_count": 4,
     "metadata": {},
     "output_type": "execute_result"
    }
   ],
   "source": [
    "data"
   ]
  },
  {
   "cell_type": "markdown",
   "metadata": {},
   "source": [
    "# Barang yang ada di dalam meeting room"
   ]
  },
  {
   "cell_type": "code",
   "execution_count": 5,
   "metadata": {},
   "outputs": [
    {
     "name": "stdout",
     "output_type": "stream",
     "text": [
      "['Brown Chair', 'Big Desk']\n"
     ]
    }
   ],
   "source": [
    "#semua barang di dalam meeting room\n",
    "ids=[]\n",
    "for p_id in data:\n",
    "    if p_id['placement']['name'] == 'Meeting Room':\n",
    "        ids.append(p_id['name'])\n",
    "print(ids)"
   ]
  },
  {
   "cell_type": "markdown",
   "metadata": {},
   "source": [
    "# Data dengan barang elektronik"
   ]
  },
  {
   "cell_type": "code",
   "execution_count": 6,
   "metadata": {},
   "outputs": [
    {
     "data": {
      "text/plain": [
       "[{'inventory_id': 2932,\n",
       "  'name': 'LG Monitor 50 inch',\n",
       "  'type': 'electronic',\n",
       "  'tags': ['monitor'],\n",
       "  'purchased_at': 1579017842,\n",
       "  'placement': {'room_id': 3, 'name': 'Lavender'}},\n",
       " {'inventory_id': 232,\n",
       "  'name': 'Sharp Pendingin Ruangan 2PK',\n",
       "  'type': 'electronic',\n",
       "  'tags': ['ac'],\n",
       "  'purchased_at': 1578931442,\n",
       "  'placement': {'room_id': 5, 'name': 'Dhanapala'}}]"
      ]
     },
     "execution_count": 6,
     "metadata": {},
     "output_type": "execute_result"
    }
   ],
   "source": [
    "#data yang electronic\n",
    "list(filter(lambda x: x['type'] == 'electronic', data))"
   ]
  },
  {
   "cell_type": "code",
   "execution_count": 7,
   "metadata": {},
   "outputs": [
    {
     "name": "stdout",
     "output_type": "stream",
     "text": [
      "['LG Monitor 50 inch', 'Sharp Pendingin Ruangan 2PK']\n"
     ]
    }
   ],
   "source": [
    "xx=[]\n",
    "for zz in data:\n",
    "    if zz['type'] == 'electronic':\n",
    "        xx.append(zz['name'])\n",
    "print(xx)"
   ]
  },
  {
   "cell_type": "markdown",
   "metadata": {},
   "source": [
    "# barang dengan tipe furniture"
   ]
  },
  {
   "cell_type": "code",
   "execution_count": 8,
   "metadata": {
    "scrolled": false
   },
   "outputs": [
    {
     "data": {
      "text/plain": [
       "[{'inventory_id': 9382,\n",
       "  'name': 'Brown Chair',\n",
       "  'type': 'furniture',\n",
       "  'tags': ['chair', 'furniture', 'brown'],\n",
       "  'purchased_at': 1579190471,\n",
       "  'placement': {'room_id': 3, 'name': 'Meeting Room'}},\n",
       " {'inventory_id': 9380,\n",
       "  'name': 'Big Desk',\n",
       "  'type': 'furniture',\n",
       "  'tags': ['desk', 'furniture', 'brown'],\n",
       "  'purchased_at': 1579190642,\n",
       "  'placement': {'room_id': 3, 'name': 'Meeting Room'}}]"
      ]
     },
     "execution_count": 8,
     "metadata": {},
     "output_type": "execute_result"
    }
   ],
   "source": [
    "#data yang mempunyai tipe furniture\n",
    "list(filter(lambda x: x['type'] == 'furniture', data))"
   ]
  },
  {
   "cell_type": "markdown",
   "metadata": {},
   "source": [
    "# pembelian yang dilakukan pada tanggal 16 bulan 1 tahun 2020"
   ]
  },
  {
   "cell_type": "code",
   "execution_count": 9,
   "metadata": {},
   "outputs": [
    {
     "data": {
      "text/html": [
       "<div>\n",
       "<style scoped>\n",
       "    .dataframe tbody tr th:only-of-type {\n",
       "        vertical-align: middle;\n",
       "    }\n",
       "\n",
       "    .dataframe tbody tr th {\n",
       "        vertical-align: top;\n",
       "    }\n",
       "\n",
       "    .dataframe thead th {\n",
       "        text-align: right;\n",
       "    }\n",
       "</style>\n",
       "<table border=\"1\" class=\"dataframe\">\n",
       "  <thead>\n",
       "    <tr style=\"text-align: right;\">\n",
       "      <th></th>\n",
       "      <th>inventory_id</th>\n",
       "      <th>name</th>\n",
       "      <th>type</th>\n",
       "      <th>tags</th>\n",
       "      <th>purchased_at</th>\n",
       "      <th>placement</th>\n",
       "      <th>tanggal</th>\n",
       "      <th>jam</th>\n",
       "    </tr>\n",
       "  </thead>\n",
       "  <tbody>\n",
       "    <tr>\n",
       "      <th>0</th>\n",
       "      <td>9382</td>\n",
       "      <td>Brown Chair</td>\n",
       "      <td>furniture</td>\n",
       "      <td>[chair, furniture, brown]</td>\n",
       "      <td>2020-01-16 16:01:11</td>\n",
       "      <td>{'room_id': 3, 'name': 'Meeting Room'}</td>\n",
       "      <td>2020-01-16</td>\n",
       "      <td>16:01:11</td>\n",
       "    </tr>\n",
       "    <tr>\n",
       "      <th>1</th>\n",
       "      <td>9380</td>\n",
       "      <td>Big Desk</td>\n",
       "      <td>furniture</td>\n",
       "      <td>[desk, furniture, brown]</td>\n",
       "      <td>2020-01-16 16:04:02</td>\n",
       "      <td>{'room_id': 3, 'name': 'Meeting Room'}</td>\n",
       "      <td>2020-01-16</td>\n",
       "      <td>16:04:02</td>\n",
       "    </tr>\n",
       "  </tbody>\n",
       "</table>\n",
       "</div>"
      ],
      "text/plain": [
       "   inventory_id         name       type                       tags  \\\n",
       "0          9382  Brown Chair  furniture  [chair, furniture, brown]   \n",
       "1          9380     Big Desk  furniture   [desk, furniture, brown]   \n",
       "\n",
       "         purchased_at                               placement    tanggal  \\\n",
       "0 2020-01-16 16:01:11  {'room_id': 3, 'name': 'Meeting Room'} 2020-01-16   \n",
       "1 2020-01-16 16:04:02  {'room_id': 3, 'name': 'Meeting Room'} 2020-01-16   \n",
       "\n",
       "        jam  \n",
       "0  16:01:11  \n",
       "1  16:04:02  "
      ]
     },
     "execution_count": 9,
     "metadata": {},
     "output_type": "execute_result"
    }
   ],
   "source": [
    "#tanggal 16 01 2020\n",
    "df['tanggal'] = [d.date() for d in df['purchased_at']]\n",
    "df['jam'] = [d.time() for d in df['purchased_at']]\n",
    "df['tanggal']= pd.to_datetime(df['tanggal'])\n",
    "df[df['tanggal']=='16-01-2020']"
   ]
  },
  {
   "cell_type": "markdown",
   "metadata": {},
   "source": [
    "# Barang yang berwarna cokelat"
   ]
  },
  {
   "cell_type": "code",
   "execution_count": 12,
   "metadata": {},
   "outputs": [
    {
     "name": "stdout",
     "output_type": "stream",
     "text": [
      "['Brown Chair', 'Big Desk']\n"
     ]
    }
   ],
   "source": [
    "#barang yang warna coklat\n",
    "brown = []\n",
    "for i in data:\n",
    "    for j in i['tags']:\n",
    "        if j == 'brown':\n",
    "            brown.append(i['name'])\n",
    "            break\n",
    "print(brown)"
   ]
  }
 ],
 "metadata": {
  "kernelspec": {
   "display_name": "Python 3",
   "language": "python",
   "name": "python3"
  },
  "language_info": {
   "codemirror_mode": {
    "name": "ipython",
    "version": 3
   },
   "file_extension": ".py",
   "mimetype": "text/x-python",
   "name": "python",
   "nbconvert_exporter": "python",
   "pygments_lexer": "ipython3",
   "version": "3.8.3"
  }
 },
 "nbformat": 4,
 "nbformat_minor": 4
}
