{
 "cells": [
  {
   "cell_type": "code",
   "execution_count": 1,
   "metadata": {},
   "outputs": [],
   "source": [
    "import pandas as pd"
   ]
  },
  {
   "cell_type": "markdown",
   "metadata": {},
   "source": [
    "# Kalimat palindrome"
   ]
  },
  {
   "cell_type": "code",
   "execution_count": 1,
   "metadata": {},
   "outputs": [
    {
     "name": "stdout",
     "output_type": "stream",
     "text": [
      "masukan kalimat yang diinginkan:saya\n",
      "Bukan. Itu bukan kalimat palindrome\n"
     ]
    }
   ],
   "source": [
    "#Soal Palin Drome\n",
    "S = input(str(\"masukan kalimat yang diinginkan:\"))\n",
    "\n",
    "def palindrome(S):\n",
    "    return S == S[::-1]\n",
    "\n",
    "benarsalah = palindrome(S)\n",
    "\n",
    "if benarsalah:\n",
    "    print (\"Ya. Kalimat itu Palindrome\")\n",
    "else :\n",
    "    print (\"Bukan. Itu bukan kalimat palindrome\")\n",
    "    "
   ]
  },
  {
   "cell_type": "markdown",
   "metadata": {},
   "source": [
    "# Tahun kabisat(between)"
   ]
  },
  {
   "cell_type": "code",
   "execution_count": 2,
   "metadata": {},
   "outputs": [
    {
     "name": "stdout",
     "output_type": "stream",
     "text": [
      "Enter start year: 2000\n",
      "Enter end year: 2021\n"
     ]
    },
    {
     "data": {
      "text/plain": [
       "[2004, 2008, 2012, 2016, 2020]"
      ]
     },
     "execution_count": 2,
     "metadata": {},
     "output_type": "execute_result"
    }
   ],
   "source": [
    "#tahun kabisat\n",
    "start = int(input(\"Enter start year: \"))\n",
    "end = int(input(\"Enter end year: \"))\n",
    "\n",
    "list(range(start + (4 - start % 4), end + 1, 4))"
   ]
  },
  {
   "cell_type": "markdown",
   "metadata": {},
   "source": [
    "# Pembalik Kalimat (reserved)"
   ]
  },
  {
   "cell_type": "code",
   "execution_count": 3,
   "metadata": {},
   "outputs": [
    {
     "name": "stdout",
     "output_type": "stream",
     "text": [
      "masukan kalimat:lemari itu warna merah\n",
      "iramel uti anraw harem\n"
     ]
    }
   ],
   "source": [
    "#pembalik kalimat\n",
    "kalimat = input(str(\"masukan kalimat:\"))\n",
    "def pembalik_kalimat(kalimat):\n",
    "  \n",
    "    # All in One line\n",
    "    return ' '.join(word[::-1] for word in kalimat.split(\" \"))\n",
    "  \n",
    "# Driver's Code \n",
    "\n",
    "print(pembalik_kalimat(kalimat))"
   ]
  },
  {
   "cell_type": "markdown",
   "metadata": {},
   "source": [
    "# Fibonacci"
   ]
  },
  {
   "cell_type": "code",
   "execution_count": 4,
   "metadata": {},
   "outputs": [
    {
     "name": "stdout",
     "output_type": "stream",
     "text": [
      "19\n",
      "[0, 1, 1, 2, 3, 5, 8, 13, 21, 34, 55, 89, 144, 233, 377, 610, 987, 1597, 2584]\n",
      "21 adalah fibonacci terdekat dari 19\n",
      "jarak nilai dari 19 dan 21 adalah 2\n"
     ]
    }
   ],
   "source": [
    "# N = int(input(\"masukan angkanya : \"))\n",
    "my_list =[15,1,3]\n",
    "N=sum(my_list)\n",
    "print(N)\n",
    "\n",
    "fibonacciSeries = [0,1]\n",
    "\n",
    "if N>2:\n",
    "    for i in range(2, N):\n",
    "        nextElement = fibonacciSeries[i-1] + fibonacciSeries[i-2]\n",
    "        fibonacciSeries.append(nextElement)\n",
    "\n",
    "print(fibonacciSeries)\n",
    "\n",
    "takeClosest = lambda num,collection:min(collection,key=lambda x:abs(x-num))\n",
    "haha = takeClosest(N,fibonacciSeries)\n",
    "print(haha,\"adalah fibonacci terdekat dari\",+N)\n",
    "\n",
    "if N > haha:\n",
    "    hsl = N-haha\n",
    "    print(\"jarak nilai dari\",+N,\"dan\",+haha,\"adalah\",hsl)\n",
    "elif haha > N  :\n",
    "    hsl = haha-N\n",
    "    print(\"jarak nilai dari\",+N,\"dan\",+haha,\"adalah\",hsl)"
   ]
  },
  {
   "cell_type": "markdown",
   "metadata": {},
   "source": [
    "# FizzBuzz"
   ]
  },
  {
   "cell_type": "code",
   "execution_count": 5,
   "metadata": {},
   "outputs": [
    {
     "name": "stdout",
     "output_type": "stream",
     "text": [
      "1\n",
      "2\n",
      "Fizz\n",
      "4\n",
      "Buzz\n",
      "Fizz\n",
      "7\n",
      "8\n",
      "Fizz\n",
      "Buzz\n",
      "11\n",
      "Fizz\n",
      "13\n",
      "14\n",
      "FizzBuzz\n",
      "16\n",
      "17\n",
      "Fizz\n",
      "19\n",
      "Buzz\n"
     ]
    }
   ],
   "source": [
    "#fizzbuzz\n",
    "def fizzBuzz(num) :\n",
    "    for i in range(1,num+1) :\n",
    "        if (i % 15 == 0) :\n",
    "            print('FizzBuzz')\n",
    "        elif (i % 3 == 0) :\n",
    "            print('Fizz')\n",
    "        elif (i % 5 == 0) :\n",
    "            print('Buzz')\n",
    "        else :\n",
    "            print(i);\n",
    "fizzBuzz(20)"
   ]
  },
  {
   "cell_type": "code",
   "execution_count": null,
   "metadata": {},
   "outputs": [],
   "source": []
  }
 ],
 "metadata": {
  "kernelspec": {
   "display_name": "Python 3",
   "language": "python",
   "name": "python3"
  },
  "language_info": {
   "codemirror_mode": {
    "name": "ipython",
    "version": 3
   },
   "file_extension": ".py",
   "mimetype": "text/x-python",
   "name": "python",
   "nbconvert_exporter": "python",
   "pygments_lexer": "ipython3",
   "version": "3.8.3"
  }
 },
 "nbformat": 4,
 "nbformat_minor": 4
}
